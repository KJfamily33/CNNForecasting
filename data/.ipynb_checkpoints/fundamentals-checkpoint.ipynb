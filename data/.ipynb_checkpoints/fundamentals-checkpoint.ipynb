{
 "cells": [
  {
   "cell_type": "code",
   "execution_count": 1,
   "metadata": {},
   "outputs": [],
   "source": [
    "import pandas as pd\n",
    "import numpy as np"
   ]
  },
  {
   "cell_type": "code",
   "execution_count": 35,
   "metadata": {},
   "outputs": [],
   "source": [
    "data2018 = pd.read_csv('CNNData2018.csv',index_col=[0])\n",
    "fundamentals = pd.read_csv('Candidatedata2018cleaned.csv',index_col=[0])"
   ]
  },
  {
   "cell_type": "code",
   "execution_count": 36,
   "metadata": {},
   "outputs": [
    {
     "data": {
      "text/plain": [
       "Index(['cycle', 'state', 'Candidateidentifier', 'Percentage_of_Vote_won_x',\n",
       "       'samplesize', 'daysLeft', 'numberSupport', 'pollster', 'Republican',\n",
       "       'Democrat'],\n",
       "      dtype='object')"
      ]
     },
     "execution_count": 36,
     "metadata": {},
     "output_type": "execute_result"
    }
   ],
   "source": [
    "data2018.columns"
   ]
  },
  {
   "cell_type": "code",
   "execution_count": 7,
   "metadata": {},
   "outputs": [
    {
     "data": {
      "text/html": [
       "<div>\n",
       "<style scoped>\n",
       "    .dataframe tbody tr th:only-of-type {\n",
       "        vertical-align: middle;\n",
       "    }\n",
       "\n",
       "    .dataframe tbody tr th {\n",
       "        vertical-align: top;\n",
       "    }\n",
       "\n",
       "    .dataframe thead th {\n",
       "        text-align: right;\n",
       "    }\n",
       "</style>\n",
       "<table border=\"1\" class=\"dataframe\">\n",
       "  <thead>\n",
       "    <tr style=\"text-align: right;\">\n",
       "      <th></th>\n",
       "      <th>Unnamed: 0</th>\n",
       "      <th>cycle</th>\n",
       "      <th>state</th>\n",
       "      <th>Candidateidentifier</th>\n",
       "      <th>Percentage_of_Vote_won_x</th>\n",
       "      <th>samplesize</th>\n",
       "      <th>daysLeft</th>\n",
       "      <th>numberSupport</th>\n",
       "      <th>pollster</th>\n",
       "      <th>Republican</th>\n",
       "      <th>Democrat</th>\n",
       "    </tr>\n",
       "  </thead>\n",
       "  <tbody>\n",
       "    <tr>\n",
       "      <th>0</th>\n",
       "      <td>13486</td>\n",
       "      <td>2018</td>\n",
       "      <td>Michigan</td>\n",
       "      <td>2018MIStabenow</td>\n",
       "      <td>52.3</td>\n",
       "      <td>827</td>\n",
       "      <td>-2</td>\n",
       "      <td>405</td>\n",
       "      <td>Mitchell Research &amp; Communications</td>\n",
       "      <td>0</td>\n",
       "      <td>1</td>\n",
       "    </tr>\n",
       "    <tr>\n",
       "      <th>1</th>\n",
       "      <td>13487</td>\n",
       "      <td>2018</td>\n",
       "      <td>Michigan</td>\n",
       "      <td>2018MIJames</td>\n",
       "      <td>45.8</td>\n",
       "      <td>827</td>\n",
       "      <td>-2</td>\n",
       "      <td>380</td>\n",
       "      <td>Mitchell Research &amp; Communications</td>\n",
       "      <td>1</td>\n",
       "      <td>0</td>\n",
       "    </tr>\n",
       "    <tr>\n",
       "      <th>2</th>\n",
       "      <td>13488</td>\n",
       "      <td>2018</td>\n",
       "      <td>Florida</td>\n",
       "      <td>2018FLNelson</td>\n",
       "      <td>50.1</td>\n",
       "      <td>1484</td>\n",
       "      <td>-2</td>\n",
       "      <td>701</td>\n",
       "      <td>Trafalgar Group</td>\n",
       "      <td>0</td>\n",
       "      <td>1</td>\n",
       "    </tr>\n",
       "    <tr>\n",
       "      <th>3</th>\n",
       "      <td>13489</td>\n",
       "      <td>2018</td>\n",
       "      <td>Florida</td>\n",
       "      <td>2018FLScott</td>\n",
       "      <td>49.9</td>\n",
       "      <td>1484</td>\n",
       "      <td>-2</td>\n",
       "      <td>727</td>\n",
       "      <td>Trafalgar Group</td>\n",
       "      <td>1</td>\n",
       "      <td>0</td>\n",
       "    </tr>\n",
       "    <tr>\n",
       "      <th>4</th>\n",
       "      <td>13490</td>\n",
       "      <td>2018</td>\n",
       "      <td>Arizona</td>\n",
       "      <td>2018AZSinema</td>\n",
       "      <td>50.0</td>\n",
       "      <td>1217</td>\n",
       "      <td>-2</td>\n",
       "      <td>551</td>\n",
       "      <td>Trafalgar Group</td>\n",
       "      <td>0</td>\n",
       "      <td>1</td>\n",
       "    </tr>\n",
       "  </tbody>\n",
       "</table>\n",
       "</div>"
      ],
      "text/plain": [
       "   Unnamed: 0  cycle     state Candidateidentifier  Percentage_of_Vote_won_x  \\\n",
       "0       13486   2018  Michigan      2018MIStabenow                      52.3   \n",
       "1       13487   2018  Michigan         2018MIJames                      45.8   \n",
       "2       13488   2018   Florida        2018FLNelson                      50.1   \n",
       "3       13489   2018   Florida         2018FLScott                      49.9   \n",
       "4       13490   2018   Arizona        2018AZSinema                      50.0   \n",
       "\n",
       "   samplesize  daysLeft  numberSupport                            pollster  \\\n",
       "0         827        -2            405  Mitchell Research & Communications   \n",
       "1         827        -2            380  Mitchell Research & Communications   \n",
       "2        1484        -2            701                     Trafalgar Group   \n",
       "3        1484        -2            727                     Trafalgar Group   \n",
       "4        1217        -2            551                     Trafalgar Group   \n",
       "\n",
       "   Republican  Democrat  \n",
       "0           0         1  \n",
       "1           1         0  \n",
       "2           0         1  \n",
       "3           1         0  \n",
       "4           0         1  "
      ]
     },
     "execution_count": 7,
     "metadata": {},
     "output_type": "execute_result"
    }
   ],
   "source": [
    "data2018.head()"
   ]
  },
  {
   "cell_type": "code",
   "execution_count": 37,
   "metadata": {},
   "outputs": [],
   "source": [
    "PVI = dict()\n",
    "EXPERIENCED = dict()\n",
    "for i in range(fundamentals.shape[0]):\n",
    "    state = fundamentals.iloc[i].state\n",
    "    pvi = fundamentals.iloc[i].pvi\n",
    "    PVI[state] = pvi\n",
    "    c = fundamentals.iloc[i].Candidateidentifier\n",
    "    experienced = fundamentals.iloc[i].experienced\n",
    "    EXPERIENCED[c] = experienced "
   ]
  },
  {
   "cell_type": "code",
   "execution_count": 38,
   "metadata": {},
   "outputs": [],
   "source": [
    "pvis = []\n",
    "experienceds = []\n",
    "for i in range(data2018.shape[0]):\n",
    "    state = data2018.iloc[i].state\n",
    "    pvis.append(PVI[state])\n",
    "    c = data2018.iloc[i].Candidateidentifier\n",
    "    experienceds.append(EXPERIENCED[c])\n",
    "    \n",
    "data2018['pvi'] = pvis\n",
    "data2018['experienced'] = experienceds"
   ]
  },
  {
   "cell_type": "code",
   "execution_count": 19,
   "metadata": {},
   "outputs": [],
   "source": [
    "data2018 = data2018.rename(columns={'Percentage_of_Vote_won_x':'Percentage.of.Vote.won.x'})"
   ]
  },
  {
   "cell_type": "code",
   "execution_count": 21,
   "metadata": {},
   "outputs": [],
   "source": [
    "data2018.to_csv('CNNData2018.csv',index=False)"
   ]
  },
  {
   "cell_type": "code",
   "execution_count": 22,
   "metadata": {},
   "outputs": [],
   "source": [
    "data2018 = pd.read_csv('CNNData2018.csv')\n",
    "data = pd.read_csv('CNNData.csv')"
   ]
  },
  {
   "cell_type": "code",
   "execution_count": 23,
   "metadata": {},
   "outputs": [],
   "source": [
    "results = data.append(data2018, sort=False)"
   ]
  },
  {
   "cell_type": "code",
   "execution_count": 25,
   "metadata": {},
   "outputs": [],
   "source": [
    "results.to_csv(\"CNNData1992-2018all.csv\",index=False)"
   ]
  },
  {
   "cell_type": "code",
   "execution_count": 24,
   "metadata": {},
   "outputs": [
    {
     "data": {
      "text/plain": [
       "Index(['cycle', 'state', 'Candidateidentifier', 'Percentage.of.Vote.won.x',\n",
       "       'samplesize', 'daysLeft', 'numberSupport', 'pollster', 'Republican',\n",
       "       'Democrat', 'pvi', 'experienced'],\n",
       "      dtype='object')"
      ]
     },
     "execution_count": 24,
     "metadata": {},
     "output_type": "execute_result"
    }
   ],
   "source": [
    "results.columns"
   ]
  },
  {
   "cell_type": "code",
   "execution_count": null,
   "metadata": {},
   "outputs": [],
   "source": []
  }
 ],
 "metadata": {
  "kernelspec": {
   "display_name": "Python 3.7.3 64-bit ('base': conda)",
   "language": "python",
   "name": "python37364bitbaseconda5541c3bdc5bc4b5f89f878adb834bb68"
  },
  "language_info": {
   "codemirror_mode": {
    "name": "ipython",
    "version": 3
   },
   "file_extension": ".py",
   "mimetype": "text/x-python",
   "name": "python",
   "nbconvert_exporter": "python",
   "pygments_lexer": "ipython3",
   "version": "3.7.3"
  }
 },
 "nbformat": 4,
 "nbformat_minor": 2
}
